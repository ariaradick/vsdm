{
 "cells": [
  {
   "cell_type": "code",
   "execution_count": 1,
   "metadata": {},
   "outputs": [
    {
     "data": {
      "text/plain": [
       "'0.1.0'"
      ]
     },
     "execution_count": 1,
     "metadata": {},
     "output_type": "execute_result"
    }
   ],
   "source": [
    "import math\n",
    "import numpy as np\n",
    "import scipy.special as spf\n",
    "import vegas # numeric integration\n",
    "import gvar # gaussian variables; for vegas\n",
    "import time\n",
    "import quaternionic # For rotations\n",
    "import spherical #For Wigner D matrix\n",
    "# import csv # file IO for projectFnlm\n",
    "# import os.path\n",
    "import h5py # database format for mathcalI arrays\n",
    "import importlib\n",
    "import sys\n",
    "import matplotlib.pyplot as plt\n",
    "import matplotlib.colors as clr\n",
    "\n",
    "\n",
    "sys.path.append('../')\n",
    "\n",
    "import vsdm\n",
    "from vsdm.units import *\n",
    "from vsdm.utilities import *\n",
    "vsdm.__version__"
   ]
  },
  {
   "cell_type": "code",
   "execution_count": 49,
   "metadata": {},
   "outputs": [
    {
     "name": "stdout",
     "output_type": "stream",
     "text": [
      "{'u0': 37289.47137978341, 'type': 'wavelet', 'uMax': 37289.47137978341, 'neval': 100000.0, 'nitn_init': 5, 'neval_init': 3000.0, 'nitn': 10, 'verbose': True, 'weight_by_vol': True, 'neval_min': 1000.0, 'is_gaussian': False}\n",
      "0.5065240859985352\n",
      "nCoeffs = 18240\n"
     ]
    }
   ],
   "source": [
    "\"\"\"Read in gX and fs2 from CSV files.\"\"\"\n",
    "def fj2(nj, qLj):\n",
    "    if qLj==0:\n",
    "        if nj==1:\n",
    "            return 1\n",
    "        else:\n",
    "            return 0        \n",
    "    qlp = np.abs(qLj)/np.pi\n",
    "    # mathsinc(x) = np.sinc(x/pi)\n",
    "    s_minus = np.sinc(0.5*(qlp - nj + 1))/(1 + (nj-1)/qlp)\n",
    "    s_plus = np.sinc(0.5*(qlp - nj - 1))/(1 + (nj+1)/qlp)\n",
    "    return (s_minus - s_plus)**2\n",
    "\n",
    "# Long thin box limit: assuming that Lz > Lx,Ly, \n",
    "# so the lowest excited states are nz=2, nz=3, with nx=ny=1. \n",
    "\n",
    "def fs2_nz(Lvec, nz, q_xyz):\n",
    "    # q: the DM particle velocity (cartesian, lab frame)\n",
    "    # L: the dimensions of the box\n",
    "    # nz = 2, 3, 4... The final state. (n=1 defined as ground state)\n",
    "    # fs2 is dimensionless\n",
    "    # note: np.sinc(x/pi) = sin(x) / (x). Included in defs. of qL below\n",
    "    (Lx, Ly, Lz) = Lvec\n",
    "    (qx, qy, qz) = q_xyz\n",
    "    qLx = Lx*qx\n",
    "    qLy = Ly*qy\n",
    "    qLz = Lz*qz\n",
    "#     qL = qLx + qLy + qLz\n",
    "    fx2 = fj2(1, qLx)\n",
    "    fy2 = fj2(1, qLy)\n",
    "    fz2 = fj2(nz, qLz)\n",
    "    return fx2*fy2*fz2\n",
    "\n",
    "def DeltaE_nz(nz, Lz):\n",
    "    # for nx=ny=1 final states, in units of [q**2]/mElec\n",
    "    return 0.5*math.pi**2 / mElec * (nz**2 - 1)/Lz**2\n",
    "\n",
    "QMAX = 10*qBohr # Global value for q0=qMax for wavelets\n",
    "\n",
    "def fs2_model4(qSph):\n",
    "    (q, theta, phi) = qSph\n",
    "    qx = q*math.sin(theta) * math.cos(phi)\n",
    "    qy = q*math.sin(theta) * math.sin(phi)\n",
    "    qz = q*math.cos(theta)\n",
    "    return fs2_nz((4/qBohr, 7/qBohr, 10/qBohr), 2, (qx,qy,qz))\n",
    "fs2_model4.is_gaussian = False\n",
    "fs2_model4.z_even = True\n",
    "fs2_model4.phi_even = True\n",
    "fs2_model4.phi_cyclic = 2\n",
    "fs2_model4.DeltaE = 4.03*eV\n",
    "\n",
    "Qdict = dict(u0=QMAX, type='wavelet', uMax=QMAX)\n",
    "vegas_params = dict(neval=1e5, nitn_init=5, \n",
    "                    neval_init=3e3, nitn=10, verbose=True, \n",
    "                    weight_by_vol=True, neval_min=1e3)\n",
    "\n",
    "# # Read Fnlm from saved csv file...\n",
    "fs2 = vsdm.ProjectFnlm(Qdict, fs2_model4, vegas_params, \n",
    "                       nlmlist=None, f_type='fs2', use_gvar=False)\n",
    "fs2.importFnlm_csv('demo/fs2_box_4_7_10.csv')\n",
    "print(fs2.basis)\n",
    "print(fs2.t_eval)\n",
    "print('nCoeffs = {}'.format(len(fs2.getNLMlist())))\n"
   ]
  },
  {
   "cell_type": "code",
   "execution_count": 3,
   "metadata": {},
   "outputs": [
    {
     "name": "stdout",
     "output_type": "stream",
     "text": [
      "{'u0': 0.0032022202060095, 'type': 'wavelet', 'uMax': 0.0032022202060095, 'neval': 10000.0, 'nitn': 7, 'nitn_init': 3, 'weight_by_vol': True, 'neval_min': 300.0, 'neval_init': 300.0, 'verbose': False, 'is_gaussian': True}\n",
      "5.676723003387451\n",
      "nCoeffs = 262848\n"
     ]
    }
   ],
   "source": [
    "def gaussian_stream_sum(ci, vWsph_i, sigma_i):\n",
    "    # Arguments: lists of amplitudes gi, dispersions v0_i, and \n",
    "    #     lab-frame DM wind vectors vWsph_i, in spherical coordinates\n",
    "    gvec_list = []\n",
    "    for i in range(len(gi)):\n",
    "        gaus = (ci[i], vWsph_i[i], sigma_i[i])\n",
    "        gvec_list += [gaus]\n",
    "    return gvec_list \n",
    "\n",
    "# Define a function to convert GaussianF(gX) into GaussianF(tilde_gX),\n",
    "# for dimensionless function tilde_gX = u0**3 * gX,\n",
    "# where u0 is the vsdm.Basis.u0 scale factor\n",
    "def gX_to_tgX(gauF, u0):\n",
    "    tgauF_vecs = gauF.rescaleGaussianF(u0**3)\n",
    "    return vsdm.GaussianFnlm(gauF.basis, tgauF_vecs)\n",
    "\n",
    "\n",
    "# Model 4: a bunch of streams, not symmetric. \n",
    "# Including the halo component without vEsc.\n",
    "v0_main = 220*km_s\n",
    "v0_a = 70*km_s\n",
    "v0_b = 50*km_s\n",
    "v0_c = 25*km_s\n",
    "vX_main = vsdm.cart_to_sph((0, 0, -230*km_s))\n",
    "vX_a = vsdm.cart_to_sph((80*km_s, 0, -80*km_s))\n",
    "vX_b = vsdm.cart_to_sph((-120*km_s, -250*km_s, -150*km_s))\n",
    "vX_c = vsdm.cart_to_sph((50*km_s, 30*km_s, -400*km_s))\n",
    "sigma_i = [v0_main, v0_a, v0_b, v0_c]\n",
    "vWsph_i = [vX_main, vX_a, vX_b, vX_c]\n",
    "gi = [0.4, 0.3, 0.2, 0.1]\n",
    "gvec_list_4 = gaussian_stream_sum(gi, vWsph_i, sigma_i)\n",
    "\n",
    "VMAX = 960.*km_s # Global value for v0=vMax for wavelets\n",
    "Vdict = dict(u0=VMAX, type='wavelet', uMax=VMAX)\n",
    "gXmodel_4 = vsdm.GaussianFnlm(Vdict, gvec_list_4)\n",
    "gtilde_4 = gX_to_tgX(gXmodel_4, VMAX)\n",
    "gvec_tilde_4 = gtilde_4.gvec_list\n",
    "\n",
    "doNumericEvaluation = False\n",
    "csvname = 'gX_model4'\n",
    "\n",
    "gvegas_params = dict(neval=1e4, nitn=7, nitn_init=3, \n",
    "                     weight_by_vol=True, neval_min=3e2,\n",
    "                     neval_init=3e2, verbose=False)\n",
    "\n",
    "\"\"\"Read from CSV\"\"\"\n",
    "gX = vsdm.ProjectFnlm(Vdict, gtilde_4, gvegas_params, \n",
    "                      nlmlist=None, f_type='gX')\n",
    "gX.importFnlm_csv('demo/'+csvname+'.csv')\n",
    "print(gX.basis)\n",
    "print(gX.t_eval)\n",
    "print('nCoeffs = {}'.format(len(gX.getNLMlist())))\n"
   ]
  },
  {
   "cell_type": "markdown",
   "metadata": {},
   "source": [
    "## Preparation: Filtered versions of gX and fs2"
   ]
  },
  {
   "cell_type": "code",
   "execution_count": null,
   "metadata": {},
   "outputs": [],
   "source": [
    "t0 = time.time()\n",
    "\"\"\"For understanding precision/convergence in gX and fs2...\"\"\"\n",
    "genergy_for_norm = gX.f2nlm_energy()\n",
    "fenergy_for_norm = fs2.f2nlm_energy()\n",
    "print('energy time:', time.time() - t0)"
   ]
  },
  {
   "cell_type": "code",
   "execution_count": 11,
   "metadata": {},
   "outputs": [
    {
     "data": {
      "text/plain": [
       "[1430, 3062, 5229, 8483]"
      ]
     },
     "execution_count": 11,
     "metadata": {},
     "output_type": "execute_result"
    }
   ],
   "source": [
    "# Sorted\n",
    "sume = 0.\n",
    "# conv = []\n",
    "gNLM_10 = []\n",
    "gNLM_30 = []\n",
    "gNLM_100 = []\n",
    "gNLM_300 = []\n",
    "for key,value in gX.getNLMpower().items():\n",
    "    power = value/genergy_for_norm\n",
    "    sume += power\n",
    "#     conv += [sume.mean]\n",
    "    if sume < 0.9:\n",
    "        gNLM_10 += [key]\n",
    "    if sume < 0.97:\n",
    "        gNLM_30 += [key]\n",
    "    if sume < 0.99:\n",
    "        gNLM_100 += [key]\n",
    "    if sume < 0.997:\n",
    "        gNLM_300 += [key]\n",
    "    if sume > 0.997:\n",
    "        break\n",
    "    \n",
    "[len(gNLM_10), len(gNLM_30), len(gNLM_100), len(gNLM_300)]"
   ]
  },
  {
   "cell_type": "code",
   "execution_count": 12,
   "metadata": {},
   "outputs": [
    {
     "data": {
      "text/plain": [
       "[222, 610, 1437, 3258]"
      ]
     },
     "execution_count": 12,
     "metadata": {},
     "output_type": "execute_result"
    }
   ],
   "source": [
    "\n",
    "# Sorted\n",
    "sume = 0.\n",
    "# conv = []\n",
    "fNLM_10 = []\n",
    "fNLM_30 = []\n",
    "fNLM_100 = []\n",
    "fNLM_300 = []\n",
    "for key,value in fs2.getNLMpower().items():\n",
    "    power = value/fenergy_for_norm\n",
    "    sume += power\n",
    "#     conv += [sume.mean]\n",
    "    if sume < 0.9:\n",
    "        fNLM_10 += [key]\n",
    "    if sume < 0.97:\n",
    "        fNLM_30 += [key]\n",
    "    if sume < 0.99:\n",
    "        fNLM_100 += [key]\n",
    "    if sume < 0.997:\n",
    "        fNLM_300 += [key]\n",
    "    if sume > 0.997:\n",
    "        break\n",
    "    \n",
    "[len(fNLM_10), len(fNLM_30), len(fNLM_100), len(fNLM_300)]"
   ]
  },
  {
   "cell_type": "code",
   "execution_count": 13,
   "metadata": {},
   "outputs": [
    {
     "name": "stdout",
     "output_type": "stream",
     "text": [
      "24 32 36 36\n"
     ]
    }
   ],
   "source": [
    "\"\"\"What are ellMax for each pairing...\"\"\"\n",
    "def get_ellMax(nlmlist):\n",
    "    lmax = 0\n",
    "    for nlm in nlmlist:\n",
    "        if nlm[1] > lmax:\n",
    "            lmax = nlm[1]\n",
    "    return lmax\n",
    "\n",
    "ellMax_10 = np.min([get_ellMax(fNLM_10), get_ellMax(gNLM_10)])\n",
    "ellMax_30 = np.min([get_ellMax(fNLM_30), get_ellMax(gNLM_30)])\n",
    "ellMax_100 = np.min([get_ellMax(fNLM_100), get_ellMax(gNLM_100)])\n",
    "ellMax_300 = np.min([get_ellMax(fNLM_300), get_ellMax(gNLM_300)])\n",
    "print(ellMax_10, ellMax_30, ellMax_100, ellMax_300)\n",
    "\n"
   ]
  },
  {
   "cell_type": "code",
   "execution_count": 14,
   "metadata": {},
   "outputs": [],
   "source": [
    "gX_10 = vsdm.ProjectFnlm(Vdict, gtilde_4, gvegas_params, \n",
    "                         nlmlist=None, f_type='gX', use_gvar=False)\n",
    "gX_30 = vsdm.ProjectFnlm(Vdict, gtilde_4, gvegas_params, \n",
    "                         nlmlist=None, f_type='gX', use_gvar=False)\n",
    "gX_100 = vsdm.ProjectFnlm(Vdict, gtilde_4, gvegas_params, \n",
    "                          nlmlist=None, f_type='gX', use_gvar=False)\n",
    "gX_300 = vsdm.ProjectFnlm(Vdict, gtilde_4, gvegas_params, \n",
    "                          nlmlist=None, f_type='gX', use_gvar=False)\n",
    "\n",
    "fs2_10 = vsdm.ProjectFnlm(Qdict, fs2_model4, vegas_params, \n",
    "                          nlmlist=None, f_type='fs2', use_gvar=False)\n",
    "fs2_30 = vsdm.ProjectFnlm(Qdict, fs2_model4, vegas_params, \n",
    "                          nlmlist=None, f_type='fs2', use_gvar=False)\n",
    "fs2_100 = vsdm.ProjectFnlm(Qdict, fs2_model4, vegas_params, \n",
    "                           nlmlist=None, f_type='fs2', use_gvar=False)\n",
    "fs2_300 = vsdm.ProjectFnlm(Qdict, fs2_model4, vegas_params, \n",
    "                           nlmlist=None, f_type='fs2', use_gvar=False)\n",
    "\n",
    "\"\"\"Import selected coefficients by hand:\"\"\"\n",
    "gX_10.importFromProjF(gX, gNLM_10)\n",
    "gX_30.importFromProjF(gX, gNLM_30)\n",
    "gX_100.importFromProjF(gX, gNLM_100)\n",
    "gX_300.importFromProjF(gX, gNLM_300)\n",
    "\n",
    "fs2_10.importFromProjF(fs2, fNLM_10)\n",
    "fs2_30.importFromProjF(fs2, fNLM_30)\n",
    "fs2_100.importFromProjF(fs2, fNLM_100)\n",
    "fs2_300.importFromProjF(fs2, fNLM_300)\n",
    "\n"
   ]
  },
  {
   "cell_type": "markdown",
   "metadata": {},
   "source": [
    "## Sparse sum version"
   ]
  },
  {
   "cell_type": "code",
   "execution_count": 11,
   "metadata": {},
   "outputs": [],
   "source": [
    "ellMax = ellMax_100\n",
    "\n",
    "# ls10 = [1, 1.5, 2, 3, 4, 5, 6, 7, 8, 9]\n",
    "ls10 = [1]\n",
    "p10 = [1, 10, 100]\n",
    "mXlist = np.array([p*m for p in p10 for m in ls10])\n",
    "\n",
    "mI = {}\n",
    "modelsDM = []\n",
    "# t0 = time.time()\n",
    "for fn in [0,2]:\n",
    "    for mX in mXlist:\n",
    "        modelsDM += [(mX, fn)]\n",
    "        dmModel = dict(mX=mX*MeV, fdm_n=fn, mSM=mElec, DeltaE=fs2_model4.DeltaE)\n",
    "        mI[(mX, fn)] = vsdm.McalI(Vdict, Qdict, dmModel, \n",
    "                                  mI_shape=(ellMax+1, 192,96), \n",
    "                                  use_gvar=False, do_mcalI=False)\n",
    "#         print((mX, fn), \": \", mI[(mX, fn)].t_eval)\n",
    "# tEvalI = time.time() - t0\n",
    "# print('total: ', tEvalI)"
   ]
  },
  {
   "cell_type": "code",
   "execution_count": 12,
   "metadata": {},
   "outputs": [
    {
     "name": "stdout",
     "output_type": "stream",
     "text": [
      "(1, 0) :  20.003538846969604\n",
      "(10, 0) :  450.2511157989502\n",
      "(100, 0) :  440.5706899166107\n",
      "(1, 2) :  20.23156213760376\n",
      "(10, 2) :  445.3807580471039\n",
      "(100, 2) :  463.57316994667053\n",
      "1840.0213899612427\n"
     ]
    }
   ],
   "source": [
    "gX_eg = gX_100\n",
    "fs2_eg = fs2_100\n",
    "\n",
    "t0 = time.time()\n",
    "rates = {}\n",
    "mK = {}\n",
    "for modelDM in modelsDM:\n",
    "    mK[modelDM] = vsdm._mcalK(gX_eg, fs2_eg, mI[modelDM], \n",
    "                              sparse=True, use_gvar=False)\n",
    "    rates[modelDM] = vsdm.RateCalc(gX_eg, fs2_eg, mI[modelDM], \n",
    "                                   use_gvar=False, sparse=True)\n",
    "    print(modelDM, \": \", rates[modelDM].t_eval)\n",
    "tEvalR = time.time() - t0\n",
    "print(tEvalR)"
   ]
  },
  {
   "cell_type": "markdown",
   "metadata": {},
   "source": [
    "# Direct (vector) evaluation of mcalI and mcalK"
   ]
  },
  {
   "cell_type": "code",
   "execution_count": 97,
   "metadata": {},
   "outputs": [
    {
     "name": "stdout",
     "output_type": "stream",
     "text": [
      "(100, 0) :  944.9556050300598\n",
      "(100, 2) :  938.3552479743958\n"
     ]
    }
   ],
   "source": [
    "ellMax = 36\n",
    "\n",
    "# ls10 = [1, 1.5, 2, 3, 4, 5, 6, 7, 8, 9]\n",
    "ls10 = [1]\n",
    "p10 = [100]\n",
    "mXlist = np.array([p*m for p in p10 for m in ls10])\n",
    "# mXlist = mXlist[0:25]\n",
    "\n",
    "\"\"\"Check the evaluation time for mcalI:\"\"\"\n",
    "# mI = {}\n",
    "modelsDM = []\n",
    "t0 = time.time()\n",
    "for fn in [0,2]:\n",
    "    for mX in mXlist:\n",
    "        modelsDM += [(mX, fn)]\n",
    "        dmModel = dict(mX=mX*MeV, fdm_n=fn, mSM=mElec, DeltaE=fs2_model4.DeltaE)\n",
    "        mI[(mX, fn)] = vsdm.McalI(Vdict, Qdict, dmModel, \n",
    "                                  mI_shape=(ellMax+1, 192,96), z_even=True, \n",
    "                                  use_gvar=False, do_mcalI=True)\n",
    "        print((mX, fn), \": \", mI[(mX, fn)].t_eval)\n",
    "tEvalI = time.time() - t0"
   ]
  },
  {
   "cell_type": "code",
   "execution_count": 103,
   "metadata": {},
   "outputs": [
    {
     "name": "stdout",
     "output_type": "stream",
     "text": [
      "(1, 0) :  0.7229428291320801\n",
      "(10, 0) :  0.7311041355133057\n",
      "(1, 2) :  0.7373270988464355\n",
      "(10, 2) :  0.6979451179504395\n",
      "(100, 0) :  0.7062101364135742\n",
      "(100, 2) :  0.7167890071868896\n",
      "4.315399885177612\n"
     ]
    }
   ],
   "source": [
    "ellMax = 36\n",
    "gX_eg = gX\n",
    "fs2_eg = fs2\n",
    "\n",
    "\n",
    "t0 = time.time()\n",
    "rates = {}\n",
    "mK = {}\n",
    "for modelDM in mI.keys():\n",
    "    rateIndex = modelDM\n",
    "    mK[modelDM] = vsdm._mcalK(gX_eg, fs2_eg, mI[modelDM], \n",
    "                              sparse=True, use_gvar=False)\n",
    "    rates[rateIndex] = vsdm.RateCalc(gX_eg, fs2_eg, mI[modelDM], \n",
    "                                     use_gvar=False, sparse=False)\n",
    "    print(modelDM, \": \", rates[rateIndex].t_eval)\n",
    "tEvalR = time.time() - t0\n",
    "print(tEvalR)"
   ]
  },
  {
   "cell_type": "markdown",
   "metadata": {},
   "source": [
    "## Rotations"
   ]
  },
  {
   "cell_type": "code",
   "execution_count": 92,
   "metadata": {},
   "outputs": [
    {
     "name": "stdout",
     "output_type": "stream",
     "text": [
      "253.8840639591217\n"
     ]
    }
   ],
   "source": [
    "rotationlist = []\n",
    "for i in range(1000):\n",
    "    qs = quaternionic.array(np.random.rand(4))\n",
    "    rotationlist += [qs]\n",
    "\n",
    "wG = vsdm.WignerG(ellMax, center_Z2=True)\n",
    "t0 = time.time()\n",
    "for rt in rotationlist:\n",
    "    wG.G_l(rt, save=True)\n",
    "tG = time.time() - t0\n",
    "print(tG)"
   ]
  },
  {
   "cell_type": "code",
   "execution_count": 104,
   "metadata": {},
   "outputs": [
    {
     "name": "stdout",
     "output_type": "stream",
     "text": [
      "1.963042974472046\n",
      "0.0003271738290786743\n"
     ]
    }
   ],
   "source": [
    "# exlist = []\n",
    "# for fn in [0, 2]:\n",
    "#     for mX in [1, 10, 100]:\n",
    "#         exlist += [(mX, fn, '36')]\n",
    "exlist = rates.keys()\n",
    "\n",
    "t0 = time.time()\n",
    "mu_all = {}\n",
    "rate_all = {}\n",
    "for rm in exlist:\n",
    "    mu_l_R = np.zeros([wG.rIndex, ellMax+1])\n",
    "    rate_R = []\n",
    "    for i in range(wG.rIndex):\n",
    "        mul = rates[rm].mu_l(wG.Glist[i])\n",
    "        rate = mul.sum()\n",
    "        mu_l_R[i] = mul\n",
    "        rate_R += [rate]\n",
    "    mu_all[rm] = mu_l_R\n",
    "    rate_all[rm] = rate_R\n",
    "tR = time.time() - t0\n",
    "print(tR)\n",
    "print(tR/wG.rIndex/len(exlist))"
   ]
  },
  {
   "cell_type": "code",
   "execution_count": 105,
   "metadata": {},
   "outputs": [
    {
     "name": "stdout",
     "output_type": "stream",
     "text": [
      "(1, 0) 0.7574389857631086 1.127750394024685\n",
      "(10, 0) 0.7381143038378252 1.281712928342032\n",
      "(1, 2) 0.8263031366698202 1.1695275487129617\n",
      "(10, 2) 0.6213501687573066 1.548404254433829\n",
      "(100, 0) 0.6923782498229206 1.6982706245792412\n",
      "(100, 2) 0.4218528123831093 1.9889380730899828\n"
     ]
    }
   ],
   "source": [
    "r_avg_min_max = {}\n",
    "for rm in exlist:\n",
    "    rate_R = np.array(rate_all[rm])\n",
    "    rate_avg = rate_R.mean()\n",
    "    least = rate_R.min()\n",
    "    greatest = rate_R.max()\n",
    "    r_avg_min_max[rm] = [rate_avg, least, greatest]\n",
    "    print(rm, least/rate_avg, greatest/rate_avg)\n",
    "    "
   ]
  },
  {
   "cell_type": "code",
   "execution_count": 111,
   "metadata": {},
   "outputs": [],
   "source": [
    "\"\"\"Partial Rate expansion in ell...\"\"\"\n",
    "mu_norm = {}\n",
    "for rm in exlist:\n",
    "    mu_norm[rm] = mu_all[rm][:, 0:37:2]/r_avg_min_max[rm][0]\n",
    "    \n"
   ]
  },
  {
   "cell_type": "code",
   "execution_count": 113,
   "metadata": {},
   "outputs": [],
   "source": [
    "ells = np.array([2*j for j in range(19)])"
   ]
  },
  {
   "cell_type": "code",
   "execution_count": 128,
   "metadata": {
    "scrolled": true
   },
   "outputs": [
    {
     "data": {
      "text/plain": [
       "array([ 9.28852329e-01,  1.43903839e-01, -1.82457967e-02,  1.35824001e-02,\n",
       "        2.75951781e-04, -5.81306255e-05, -2.12287826e-05,  3.85680475e-06,\n",
       "        7.03870441e-06, -4.76938934e-07, -1.96322350e-06,  1.94200574e-07,\n",
       "       -4.76855341e-08, -2.12682288e-08,  1.93570605e-08, -3.01317029e-09,\n",
       "       -2.42734196e-09,  1.00735632e-09,  1.78166471e-09])"
      ]
     },
     "execution_count": 128,
     "metadata": {},
     "output_type": "execute_result"
    }
   ],
   "source": [
    " mu_norm[rm][0]"
   ]
  },
  {
   "cell_type": "code",
   "execution_count": 153,
   "metadata": {},
   "outputs": [],
   "source": [
    "plt.rc('text', usetex=True)\n"
   ]
  },
  {
   "cell_type": "code",
   "execution_count": 173,
   "metadata": {},
   "outputs": [
    {
     "name": "stderr",
     "output_type": "stream",
     "text": [
      "/Library/Frameworks/Python.framework/Versions/3.7/lib/python3.7/site-packages/ipykernel_launcher.py:41: UserWarning: Matplotlib is currently using module://ipykernel.pylab.backend_inline, which is a non-GUI backend, so cannot show the figure.\n"
     ]
    },
    {
     "data": {
      "image/png": "[encoded data removed]",
      "text/plain": [
       "<Figure size 504x252 with 1 Axes>"
      ]
     },
     "metadata": {
      "needs_background": "light"
     },
     "output_type": "display_data"
    }
   ],
   "source": [
    "unisize = 3.5\n",
    "fig = plt.figure(figsize=[2.0*unisize,1*unisize])\n",
    "ax = fig.add_axes([0,0,1,1], xscale='linear', yscale='log')\n",
    "rm = (100, 0)\n",
    "for i in range(100):\n",
    "    ax.plot(ells, np.abs(mu_norm[rm][i]), color='mediumpurple')\n",
    "rm = (100, 2)\n",
    "for i in range(100):\n",
    "    ax.plot(ells, np.abs(mu_norm[rm][i]), color='mediumpurple')\n",
    "rm = (1, 0)\n",
    "for i in range(100):\n",
    "    ax.plot(ells, np.abs(mu_norm[rm][i]), color='slategray')\n",
    "rm = (1, 2)\n",
    "for i in range(100):\n",
    "    ax.plot(ells, np.abs(mu_norm[rm][i]), color='slategray')\n",
    "rm = (10, 0)\n",
    "for i in range(100):\n",
    "    ax.plot(ells, np.abs(mu_norm[rm][i]), color='cornflowerblue')\n",
    "rm = (10, 2)\n",
    "for i in range(100):\n",
    "    ax.plot(ells, np.abs(mu_norm[rm][i]), color='cornflowerblue')\n",
    "\n",
    "ax.plot(ells, -np.abs(mu_norm[(100,0)][100]), color='mediumpurple', \n",
    "        label=r'$m_\\chi=100$ MeV', linewidth=5)\n",
    "ax.plot(ells, -np.abs(mu_norm[(10,0)][100]), color='cornflowerblue', \n",
    "        label=r'$m_\\chi=10$ MeV', linewidth=5)\n",
    "ax.plot(ells, -np.abs(mu_norm[(1,0)][100]), color='slategray', \n",
    "        label=r'$m_\\chi=1$ MeV', linewidth=5)\n",
    "ax.set_xlim([0, 36])\n",
    "ax.set_ylim([1e-10, 2])\n",
    "ax.set_xticks([4*j for j in range(10)])\n",
    "ax.set_ylabel(r'$|R_\\ell(\\mathcal R)|$', fontsize=14, usetex=True)\n",
    "ax.set_xlabel(r'$\\ell$', fontsize=14, usetex=True)\n",
    "ax.tick_params(axis='both', labelsize=14, direction='inout',\n",
    "               right=True, top=True, labelleft=True, labelright=False,\n",
    "               labelbottom=True, labeltop=False)\n",
    "\n",
    "\n",
    "\n",
    "ax.legend(fontsize=14)\n",
    "fig.show()"
   ]
  },
  {
   "cell_type": "markdown",
   "metadata": {},
   "source": [
    "# Counterexample: Direct integration "
   ]
  },
  {
   "cell_type": "code",
   "execution_count": 68,
   "metadata": {},
   "outputs": [],
   "source": [
    "DeltaE = 4.03*eV\n",
    "mX = 10*MeV\n",
    "fdmn = 2\n",
    "vmax = 960*km_s\n",
    "qmax = 10*qBohr\n",
    "def fs2_cart(qx, qy, qz):\n",
    "    return fs2_nz((4/qBohr, 7/qBohr, 10/qBohr), 2, (qx,qy,qz))\n",
    "\n",
    "\n",
    "def gX_cart(ux, uy, uz):\n",
    "    sum_i = 0.\n",
    "    for gvec in gvec_list_4:\n",
    "        (c_i, uSph_i, sigma_i) = gvec\n",
    "        (ux_i, uy_i, uz_i) = vsdm.sph_to_cart(uSph_i)\n",
    "        du2 = (ux - ux_i)**2 + (uy - uy_i)**2 + (uz - uz_i)**2\n",
    "        gaussnorm = math.pi**(-1.5) * sigma_i**(-3) * math.exp(-du2/sigma_i**2)\n",
    "        sum_i += c_i * gaussnorm\n",
    "    return sum_i\n",
    "    \n",
    "\n",
    "def integrandR(qXYZvXY):\n",
    "    [qx, qy, qz, vx, vy] = qXYZvXY\n",
    "    q = math.sqrt(qx**2 + qy**2 + qz**2)\n",
    "    vz = 1/qz * (DeltaE + q**2/(2*mX) - qx*vx - qy*vy)\n",
    "    if vz<-vmax or vz>vmax:\n",
    "        return 0\n",
    "    fdm2 = (qBohr/q)**(2*fdmn)\n",
    "    gx = gX_cart(vx, vy, vz)\n",
    "    fs2 = fs2_cart(qx, qy, qz)\n",
    "    return fdm2 * gx * fs2 / math.sqrt(qz**2) / 5.7577e8\n",
    "    "
   ]
  },
  {
   "cell_type": "code",
   "execution_count": 78,
   "metadata": {},
   "outputs": [
    {
     "name": "stdout",
     "output_type": "stream",
     "text": [
      "itn   integral        wgt average     chi2/dof        Q\n",
      "-------------------------------------------------------\n",
      "  1   0.035(22)       0.035(22)           0.00     1.00\n",
      "  2   0.53(40)        0.037(22)           1.49     0.22\n",
      "  3   0.112(26)       0.068(17)           3.14     0.04\n",
      "  4   0.54(12)        0.079(17)           7.60     0.00\n",
      "  5   14(14)          0.079(17)           5.97     0.00\n",
      "  6   1.08(23)        0.084(17)           8.60     0.00\n",
      "  7   1.05(17)        0.094(17)          12.72     0.00\n",
      "\n",
      "4.148550271987915\n",
      "itn   integral        wgt average     chi2/dof        Q\n",
      "-------------------------------------------------------\n",
      "  1   1.000(14)       1.000(14)           0.00     1.00\n",
      "  2   0.9988(71)      0.9989(63)          0.00     0.96\n",
      "  3   1.0066(45)      1.0040(37)          0.48     0.62\n",
      "  4   0.9986(28)      1.0005(22)          0.78     0.50\n",
      "  5   1.0053(23)      1.0028(16)          1.14     0.33\n",
      "  6   1.0010(19)      1.0020(12)          1.03     0.40\n",
      "  7   1.0010(16)      1.00165(96)         0.90     0.49\n",
      "  8   0.9984(13)      1.00052(77)         1.35     0.22\n",
      "  9   1.0004(13)      1.00049(67)         1.18     0.31\n",
      " 10   0.9982(12)      0.99994(58)         1.37     0.20\n",
      "\n",
      "-0.006(58)\n",
      "643.3926730155945\n"
     ]
    }
   ],
   "source": [
    "volumeQ3V2 = [[-qmax,qmax]]*3 + [[-vmax,vmax]]*2\n",
    "integrator = vegas.Integrator(volumeQ3V2)\n",
    "\n",
    "t0 = time.time()\n",
    "init = integrator(integrandR, nitn=7, neval=1e4)\n",
    "print(init.summary())\n",
    "print(time.time() - t0)\n",
    "result = integrator(integrandR, nitn=10, neval=1e6)\n",
    "print(result.summary())\n",
    "tAlt = time.time() - t0\n",
    "print((result - 1)*100)\n",
    "print(tAlt)\n"
   ]
  },
  {
   "cell_type": "code",
   "execution_count": 79,
   "metadata": {},
   "outputs": [
    {
     "name": "stdout",
     "output_type": "stream",
     "text": [
      "itn   integral        wgt average     chi2/dof        Q\n",
      "-------------------------------------------------------\n",
      "  1   0.0090(51)      0.0090(51)          0.00     1.00\n",
      "  2   240(239)        0.0090(51)          1.00     0.32\n",
      "  3   0.123(42)       0.0108(51)          4.21     0.01\n",
      "  4   0.322(88)       0.0118(51)          6.94     0.00\n",
      "  5   1.26(28)        0.0122(51)         10.36     0.00\n",
      "  6   0.787(57)       0.0183(50)         44.98     0.00\n",
      "  7   1.09(18)        0.0191(50)         43.18     0.00\n",
      "\n",
      "3.9414730072021484\n",
      "itn   integral        wgt average     chi2/dof        Q\n",
      "-------------------------------------------------------\n",
      "  1   1.012(34)       1.012(34)           0.00     1.00\n",
      "  2   0.9697(77)      0.9717(75)          1.45     0.23\n",
      "  3   0.9828(78)      0.9770(54)          1.24     0.29\n",
      "  4   1.0061(53)      0.9919(38)          5.74     0.00\n",
      "  5   0.9976(33)      0.9952(25)          4.63     0.00\n",
      "  6   1.0021(25)      0.9986(18)          4.48     0.00\n",
      "  7   1.0045(21)      1.0010(13)          4.51     0.00\n",
      "  8   1.0002(19)      1.0008(11)          3.89     0.00\n",
      "  9   1.0028(17)      1.00135(93)         3.53     0.00\n",
      " 10   1.0025(17)      1.00163(81)         3.18     0.00\n",
      "\n",
      "0.163(81)\n",
      "432.14139699935913\n"
     ]
    }
   ],
   "source": [
    "volumeQ3V2 = [[-qmax,qmax]]*3 + [[-vmax,vmax]]*2\n",
    "integrator = vegas.Integrator(volumeQ3V2)\n",
    "\n",
    "t0 = time.time()\n",
    "init = integrator(integrandR, nitn=7, neval=1e4)\n",
    "print(init.summary())\n",
    "print(time.time() - t0)\n",
    "result = integrator(integrandR, nitn=10, neval=7e5)\n",
    "print(result.summary())\n",
    "tAlt = time.time() - t0\n",
    "print((result - 1)*100)\n",
    "print(tAlt)\n"
   ]
  },
  {
   "cell_type": "code",
   "execution_count": 80,
   "metadata": {},
   "outputs": [
    {
     "name": "stdout",
     "output_type": "stream",
     "text": [
      "itn   integral        wgt average     chi2/dof        Q\n",
      "-------------------------------------------------------\n",
      "  1   0.020(12)       0.020(12)           0.00     1.00\n",
      "  2   0.160(82)       0.023(12)           2.86     0.09\n",
      "  3   0.29(16)        0.024(12)           2.87     0.06\n",
      "  4   0.40(14)        0.027(12)           4.20     0.01\n",
      "  5   0.84(19)        0.030(12)           7.86     0.00\n",
      "  6   1.25(25)        0.032(11)          10.86     0.00\n",
      "  7   0.98(14)        0.039(11)          16.87     0.00\n",
      "\n",
      "4.307883024215698\n",
      "itn   integral        wgt average     chi2/dof        Q\n",
      "-------------------------------------------------------\n",
      "  1   0.978(19)       0.978(19)           0.00     1.00\n",
      "  2   0.977(13)       0.978(11)           0.00     0.97\n",
      "  3   0.997(10)       0.9877(74)          0.88     0.41\n",
      "  4   1.0074(80)      0.9967(54)          1.68     0.17\n",
      "  5   0.9997(35)      0.9988(29)          1.32     0.26\n",
      "  6   1.0016(28)      1.0003(20)          1.15     0.33\n",
      "  7   1.0002(25)      1.0003(16)          0.96     0.45\n",
      "  8   0.9978(26)      0.9996(13)          0.92     0.49\n",
      "  9   1.0008(22)      0.9999(11)          0.83     0.58\n",
      " 10   1.0004(22)      1.0000(10)          0.74     0.67\n",
      "\n",
      "0.001(102)\n",
      "267.04722690582275\n"
     ]
    }
   ],
   "source": [
    "volumeQ3V2 = [[-qmax,qmax]]*3 + [[-vmax,vmax]]*2\n",
    "integrator = vegas.Integrator(volumeQ3V2)\n",
    "\n",
    "t0 = time.time()\n",
    "init = integrator(integrandR, nitn=7, neval=1e4)\n",
    "print(init.summary())\n",
    "print(time.time() - t0)\n",
    "result = integrator(integrandR, nitn=10, neval=4e5)\n",
    "print(result.summary())\n",
    "tAlt = time.time() - t0\n",
    "print((result - 1)*100)\n",
    "print(tAlt)\n"
   ]
  },
  {
   "cell_type": "code",
   "execution_count": 81,
   "metadata": {},
   "outputs": [
    {
     "name": "stdout",
     "output_type": "stream",
     "text": [
      "itn   integral        wgt average     chi2/dof        Q\n",
      "-------------------------------------------------------\n",
      "  1   0.0015(13)      0.0015(13)          0.00     1.00\n",
      "  2   0.30(19)        0.0015(13)          2.36     0.12\n",
      "  3   1.27(76)        0.0015(13)          2.57     0.08\n",
      "  4   1.27(51)        0.0016(13)          3.80     0.01\n",
      "  5   0.98(15)        0.0016(13)         14.18     0.00\n",
      "  6   0.93(10)        0.0018(13)         28.11     0.00\n",
      "  7   0.927(42)       0.0026(13)        104.01     0.00\n",
      "\n",
      "4.468539714813232\n",
      "itn   integral        wgt average     chi2/dof        Q\n",
      "-------------------------------------------------------\n",
      "  1   0.993(14)       0.993(14)           0.00     1.00\n",
      "  2   0.9949(72)      0.9946(64)          0.01     0.92\n",
      "  3   1.013(15)       0.9973(59)          0.60     0.55\n",
      "  4   0.9978(25)      0.9977(23)          0.40     0.75\n",
      "  5   0.9986(16)      0.9983(13)          0.33     0.86\n",
      "  6   1.0008(12)      0.99965(88)         0.65     0.66\n",
      "  7   1.0001(12)      0.99982(71)         0.56     0.76\n",
      "  8   1.00033(88)     1.00002(55)         0.51     0.83\n",
      "  9   0.99963(84)     0.99990(46)         0.47     0.88\n",
      " 10   0.99996(82)     0.99992(40)         0.41     0.93\n",
      "\n",
      "-0.008(40)\n",
      "1148.7960679531097\n"
     ]
    }
   ],
   "source": [
    "volumeQ3V2 = [[-qmax,qmax]]*3 + [[-vmax,vmax]]*2\n",
    "integrator = vegas.Integrator(volumeQ3V2)\n",
    "\n",
    "t0 = time.time()\n",
    "init = integrator(integrandR, nitn=7, neval=1e4)\n",
    "print(init.summary())\n",
    "print(time.time() - t0)\n",
    "result = integrator(integrandR, nitn=10, neval=2e6)\n",
    "print(result.summary())\n",
    "tAlt = time.time() - t0\n",
    "print((result - 1)*100)\n",
    "print(tAlt)\n"
   ]
  },
  {
   "cell_type": "code",
   "execution_count": 85,
   "metadata": {},
   "outputs": [
    {
     "name": "stdout",
     "output_type": "stream",
     "text": [
      "itn   integral        wgt average     chi2/dof        Q\n",
      "-------------------------------------------------------\n",
      "  1   0.000076(53)    0.000076(53)        0.00     1.00\n",
      "  2   0.238(78)       0.000076(53)        9.40     0.00\n",
      "  3   1.03(54)        0.000076(53)        6.55     0.00\n",
      "  4   3.2(2.5)        0.000076(53)        4.91     0.00\n",
      "  5   0.509(84)       0.000077(53)       12.94     0.00\n",
      "  6   0.90(16)        0.000077(53)       16.68     0.00\n",
      "  7   0.81(11)        0.000077(53)       22.33     0.00\n",
      "\n",
      "0.4394807815551758\n",
      "itn   integral        wgt average     chi2/dof        Q\n",
      "-------------------------------------------------------\n",
      "  1   0.970(49)       0.970(49)           0.00     1.00\n",
      "  2   1.015(39)       0.997(30)           0.55     0.46\n",
      "  3   1.006(29)       1.002(21)           0.29     0.75\n",
      "  4   0.994(13)       0.996(11)           0.23     0.88\n",
      "  5   0.9819(94)      0.9880(71)          0.42     0.80\n",
      "  6   1.005(12)       0.9926(61)          0.65     0.66\n",
      "  7   1.0042(92)      0.9961(51)          0.72     0.63\n",
      "  8   0.9969(81)      0.9963(43)          0.62     0.74\n",
      "  9   0.9950(84)      0.9961(38)          0.54     0.82\n",
      " 10   0.9890(72)      0.9945(34)          0.57     0.83\n",
      "\n",
      "-0.55(34)\n",
      "42.37475299835205\n"
     ]
    }
   ],
   "source": [
    "volumeQ3V2 = [[-qmax,qmax]]*3 + [[-vmax,vmax]]*2\n",
    "integrator = vegas.Integrator(volumeQ3V2)\n",
    "\n",
    "t0 = time.time()\n",
    "init = integrator(integrandR, nitn=7, neval=1e3)\n",
    "print(init.summary())\n",
    "print(time.time() - t0)\n",
    "result = integrator(integrandR, nitn=10, neval=7e4)\n",
    "print(result.summary())\n",
    "tAlt = time.time() - t0\n",
    "print((result - 1)*100)\n",
    "print(tAlt)\n"
   ]
  },
  {
   "cell_type": "code",
   "execution_count": null,
   "metadata": {},
   "outputs": [],
   "source": []
  }
 ],
 "metadata": {
  "kernelspec": {
   "display_name": "Python 3",
   "language": "python",
   "name": "python3"
  },
  "language_info": {
   "codemirror_mode": {
    "name": "ipython",
    "version": 3
   },
   "file_extension": ".py",
   "mimetype": "text/x-python",
   "name": "python",
   "nbconvert_exporter": "python",
   "pygments_lexer": "ipython3",
   "version": "3.7.1"
  }
 },
 "nbformat": 4,
 "nbformat_minor": 4
}
