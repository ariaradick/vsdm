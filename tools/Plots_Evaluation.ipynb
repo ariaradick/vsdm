{
 "cells": [
  {
   "cell_type": "code",
   "execution_count": 1,
   "metadata": {},
   "outputs": [
    {
     "data": {
      "text/plain": [
       "'0.1.0'"
      ]
     },
     "execution_count": 1,
     "metadata": {},
     "output_type": "execute_result"
    }
   ],
   "source": [
    "import math\n",
    "import numpy as np\n",
    "import scipy.special as spf\n",
    "import vegas # numeric integration\n",
    "import gvar # gaussian variables; for vegas\n",
    "import time\n",
    "import quaternionic # For rotations\n",
    "# import spherical #For Wigner D matrix\n",
    "# import csv # file IO for projectFnlm\n",
    "# import os.path\n",
    "import h5py # database format for mathcalI arrays\n",
    "import importlib\n",
    "import sys\n",
    "import matplotlib.pyplot as plt\n",
    "\n",
    "\n",
    "sys.path.append('../')\n",
    "\n",
    "import vsdm\n",
    "from vsdm.units import *\n",
    "# from vsdm.utilities import *\n",
    "vsdm.__version__"
   ]
  },
  {
   "cell_type": "markdown",
   "metadata": {},
   "source": [
    "## Form factor (box)"
   ]
  },
  {
   "cell_type": "code",
   "execution_count": 2,
   "metadata": {},
   "outputs": [],
   "source": [
    "def fj2(nj, qLj):\n",
    "    if qLj==0:\n",
    "        if nj==1:\n",
    "            return 1\n",
    "        else:\n",
    "            return 0        \n",
    "    qlp = np.abs(qLj)/np.pi\n",
    "    # mathsinc(x) = np.sinc(x/pi)\n",
    "    s_minus = np.sinc(0.5*(qlp - nj + 1))/(1 + (nj-1)/qlp)\n",
    "    s_plus = np.sinc(0.5*(qlp - nj - 1))/(1 + (nj+1)/qlp)\n",
    "    return (s_minus - s_plus)**2\n",
    "\n",
    "### MOMENTUM DISTRIBUTION EXAMPLES\n",
    "\n",
    "# Long thin box limit: assuming that Lz > Lx,Ly, \n",
    "# so the lowest excited states are nz=2, nz=3, with nx=ny=1. \n",
    "\n",
    "def fs2_nz(Lvec, nz, q_xyz):\n",
    "    # q: the DM particle velocity (cartesian, lab frame)\n",
    "    # L: the dimensions of the box\n",
    "    # nz = 2, 3, 4... The final state. (n=1 defined as ground state)\n",
    "    # fs2 is dimensionless\n",
    "    # note: np.sinc(x/pi) = sin(x) / (x). Included in defs. of qL below\n",
    "    (Lx, Ly, Lz) = Lvec\n",
    "    (qx, qy, qz) = q_xyz\n",
    "    qLx = Lx*qx\n",
    "    qLy = Ly*qy\n",
    "    qLz = Lz*qz\n",
    "#     qL = qLx + qLy + qLz\n",
    "    fx2 = fj2(1, qLx)\n",
    "    fy2 = fj2(1, qLy)\n",
    "    fz2 = fj2(nz, qLz)\n",
    "    return fx2*fy2*fz2\n",
    "\n",
    "def DeltaE_nz(nz, Lz):\n",
    "    # for nx=ny=1 final states, in units of [q**2]/mElec\n",
    "    return 0.5*math.pi**2 / mElec * (nz**2 - 1)/Lz**2\n",
    "\n",
    "def fs2_m1(qDMsph):\n",
    "    # Taking Lz = 10*a0 for all examples, with DeltaE = 4.0285 eV for nz=2.\n",
    "    Lx = 4/qBohr\n",
    "    Ly = 4/qBohr\n",
    "    Lz = 10/qBohr\n",
    "    Lvec = (Lx, Ly, Lz)\n",
    "    (q, theta, phi) = qDMsph\n",
    "    q_xyz = (q * np.sin(theta) * np.cos(phi), \n",
    "              q * np.sin(theta) * np.sin(phi), \n",
    "              q * np.cos(theta))\n",
    "    return fs2_nz(Lvec, 2, q_xyz)\n",
    "\n",
    "def fs2_m2(qDMsph):\n",
    "    # Taking Lz = 10*a0 for all examples, with DeltaE = 4.0285 eV for nz=2.\n",
    "    Lx = 8/qBohr\n",
    "    Ly = 8/qBohr\n",
    "    Lz = 10/qBohr\n",
    "    Lvec = (Lx, Ly, Lz)\n",
    "    (q, theta, phi) = qDMsph\n",
    "    q_xyz = (q * np.sin(theta) * np.cos(phi), \n",
    "              q * np.sin(theta) * np.sin(phi), \n",
    "              q * np.cos(theta))\n",
    "    return fs2_nz(Lvec, 2, q_xyz)\n",
    "\n",
    "def fs2_m3(qDMsph):\n",
    "    # Taking Lz = 10*a0 for all examples, with DeltaE = 4.0285 eV for nz=2.\n",
    "    Lx = 4/qBohr\n",
    "    Ly = 7/qBohr\n",
    "    Lz = 10/qBohr\n",
    "    Lvec = (Lx, Ly, Lz)\n",
    "    (q, theta, phi) = qDMsph\n",
    "    q_xyz = (q * np.sin(theta) * np.cos(phi), \n",
    "              q * np.sin(theta) * np.sin(phi), \n",
    "              q * np.cos(theta))\n",
    "    return fs2_nz(Lvec, 2, q_xyz)\n",
    "\n",
    "\n",
    "#"
   ]
  },
  {
   "cell_type": "code",
   "execution_count": 4,
   "metadata": {},
   "outputs": [
    {
     "name": "stdout",
     "output_type": "stream",
     "text": [
      "0.2913 keV per bin\n"
     ]
    }
   ],
   "source": [
    "QMAX = 10*qBohr # Global value for q0=qMax for wavelets\n",
    "\n",
    "def fs2_model4(qSph):\n",
    "    (q, theta, phi) = qSph\n",
    "    qx = q*math.sin(theta) * math.cos(phi)\n",
    "    qy = q*math.sin(theta) * math.sin(phi)\n",
    "    qz = q*math.cos(theta)\n",
    "    return fs2_nz((4/qBohr, 7/qBohr, 10/qBohr), 2, (qx,qy,qz))\n",
    "fs2_model4.is_gaussian = False\n",
    "fs2_model4.z_even = True\n",
    "fs2_model4.phi_even = True\n",
    "fs2_model4.phi_cyclic = 2\n",
    "\n",
    "\n",
    "bdict = dict(u0=QMAX, type='wavelet', uMax=QMAX)\n",
    "vegas_params = dict(neval=1e5, nitn_init=5, \n",
    "                    neval_init=1e3, nitn=10, verbose=True, \n",
    "                    weight_by_vol=1, neval_min=1e3)\n",
    "print('{:.4G} keV per bin'.format(QMAX/128/keV))\n",
    "\n",
    "nMax = 95\n",
    "nMin = 0\n",
    "lMin = 0\n",
    "lMax = 36\n",
    "nlmlist_3 = vsdm.makeNLMlist(nMax, lMax, nMin=nMin, lMin=lMin,\n",
    "                             phi_even=True, mSymmetry=2, lSymmetry=2)\n",
    "\n",
    "csvname = 'out/fs4_1e5.csv'"
   ]
  },
  {
   "cell_type": "code",
   "execution_count": null,
   "metadata": {},
   "outputs": [],
   "source": [
    "\"\"\"Initial numeric calculation.\"\"\"\n",
    "wave1 = vsdm.ProjectFnlm(bdict, fs2_model4, vegas_params, \n",
    "                         nlmlist=nlmlist_3,  \n",
    "                         f_type='fs2', \n",
    "                         csvsave_name=csvname)\n",
    "print(wave1.t_eval)\n"
   ]
  },
  {
   "cell_type": "code",
   "execution_count": null,
   "metadata": {},
   "outputs": [],
   "source": [
    "\"\"\"Improvement on most important coeffs...\"\"\"\n",
    "# # Read Fnlm from saved csv file...\n",
    "wave_csv = vsdm.ProjectFnlm(bdict, fs2_model4, vegas_params, \n",
    "                            nlmlist=None, f_type='fs2')\n",
    "wave_csv.importFnlm_csv(csvname)\n",
    "# get the energy from fnlm...\n",
    "energy = wave_csv.f2nlm_energy()\n",
    "# get fractional power:\n",
    "powerNLM = wave_csv.getNLMpower()\n",
    "power_fractional = {key:value/energy for key,value in powerNLM.items()}\n",
    "\n",
    "neval_BIG = 1e6\n",
    "prec_goal_energy = 1e-4\n",
    "vegas_update = dict(neval=neval_BIG, nitn=10, \n",
    "                    neval_init=1e3, nitn_init=5, verbose=True, \n",
    "                    weight_by_vol=False, neval_min=1e3)\n",
    "\n",
    "# new integrals:\n",
    "for nlm,frac_power in power_fractional.items():\n",
    "    if frac_power > prec_goal_energy:\n",
    "        neval_importance = int(frac_power.mean*neval_BIG)\n",
    "        if neval_importance > vegas_update['neval_min']:\n",
    "            vegas_update['neval'] = neval_importance\n",
    "        wave_csv.updateFnlm(nlm, vegas_update, \n",
    "                            csvsave_name=csvname) \n",
    "\n"
   ]
  },
  {
   "cell_type": "markdown",
   "metadata": {},
   "source": [
    "## Velocity distributions (Gaussian)"
   ]
  },
  {
   "cell_type": "code",
   "execution_count": 5,
   "metadata": {},
   "outputs": [],
   "source": [
    "def gaussian_stream_sum(ci, vWsph_i, sigma_i):\n",
    "    # Arguments: lists of amplitudes gi, dispersions v0_i, and \n",
    "    #     lab-frame DM wind vectors vWsph_i, in spherical coordinates\n",
    "    gvec_list = []\n",
    "    for i in range(len(gi)):\n",
    "        gaus = (ci[i], vWsph_i[i], sigma_i[i])\n",
    "        gvec_list += [gaus]\n",
    "    return gvec_list \n",
    "\n",
    "# Define a function to convert GaussianF(gX) into GaussianF(tilde_gX),\n",
    "# for dimensionless function tilde_gX = u0**3 * gX,\n",
    "# where u0 is the vsdm.Basis.u0 scale factor\n",
    "def gX_to_tgX(gauF, u0):\n",
    "    tgauF_vecs = gauF.rescaleGaussianF(u0**3)\n",
    "    return vsdm.GaussianFnlm(gauF.basis, tgauF_vecs)\n"
   ]
  },
  {
   "cell_type": "code",
   "execution_count": 6,
   "metadata": {},
   "outputs": [],
   "source": [
    "# Model 4: a bunch of streams, not symmetric. \n",
    "# Including the halo component without vEsc.\n",
    "v0_main = 220*km_s\n",
    "v0_a = 70*km_s\n",
    "v0_b = 50*km_s\n",
    "v0_c = 25*km_s\n",
    "# vX_main = (230*km_s, np.pi, 0)\n",
    "# vX_a = (113.13*km_s, 0.75*np.pi, 0) \n",
    "# vX_b = (315.28*km_s, 2.067, 4.265)\n",
    "# vX_c = (1.5*256.71*km_s, 2.912, 0.540)\n",
    "vX_main = vsdm.cart_to_sph((0, 0, -230*km_s))\n",
    "vX_a = vsdm.cart_to_sph((80*km_s, 0, -80*km_s))\n",
    "vX_b = vsdm.cart_to_sph((-120*km_s, -250*km_s, -150*km_s))\n",
    "vX_c = vsdm.cart_to_sph((50*km_s, 30*km_s, -400*km_s))\n",
    "sigma_i = [v0_main, v0_a, v0_b, v0_c]\n",
    "vWsph_i = [vX_main, vX_a, vX_b, vX_c]\n",
    "gi = [0.4, 0.3, 0.2, 0.1]\n",
    "gvec_list_4 = gaussian_stream_sum(gi, vWsph_i, sigma_i)\n",
    "\n",
    "VMAX = 960.*km_s # Global value for v0=vMax for wavelets\n",
    "bdict = dict(u0=VMAX, type='wavelet', uMax=VMAX)\n",
    "gXmodel_4 = vsdm.GaussianFnlm(bdict, gvec_list_4)\n",
    "gtilde_4 = gX_to_tgX(gXmodel_4, VMAX)\n",
    "gvec_tilde_4 = gtilde_4.gvec_list"
   ]
  },
  {
   "cell_type": "code",
   "execution_count": 6,
   "metadata": {},
   "outputs": [
    {
     "name": "stdout",
     "output_type": "stream",
     "text": [
      "1574.7977797985077\n"
     ]
    }
   ],
   "source": [
    "gvegas_params = dict(neval=1e4, nitn=7, nitn_init=3, \n",
    "                     weight_by_vol=True, neval_min=3e2,\n",
    "                     neval_init=3e2, verbose=False)\n",
    "\n",
    "doNumericEvaluation = True\n",
    "modelname = 'gX_model4'\n",
    "\n",
    "csvname = 'demo/' + modelname + '.csv'\n",
    "\n",
    "if doNumericEvaluation:\n",
    "    \"\"\"Numeric evaluation...\"\"\"\n",
    "    nMax = 192\n",
    "    nMin = 0\n",
    "    ellMax = 36\n",
    "    nlmlist_4 = [(n,ell,m) for ell in range(ellMax+1) \n",
    "                 for m in range(-ell, ell+1) \n",
    "                 for n in range(nMin, nMax)]\n",
    "\n",
    "    wave4 = vsdm.ProjectFnlm(bdict, gtilde_4, gvegas_params, \n",
    "                             nlmlist=nlmlist_4, f_type='gX', \n",
    "                             csvsave_name=csvname, use_gvar=True)\n",
    "#     wave4.writeFnlm_csv(csvname)\n",
    "    wave4.writeFnlm('out/draftplots.hdf5', modelname, \n",
    "                    writeGnli=True)\n",
    "else:\n",
    "    \"\"\"Read from hdf5...\"\"\"\n",
    "    wave4 = vsdm.ProjectFnlm(bdict, gtilde_4, gvegas_params, \n",
    "                              nlmlist=None, f_type='gX')\n",
    "    wave4.importFnlm_csv(csvname)\n",
    "    print('nCoeffs = {}'.format(len(wave4.getNLMlist())))\n",
    "    print('is_gaussian: ', wave4.is_gaussian)\n",
    "\n",
    "print(wave4.t_eval)\n"
   ]
  },
  {
   "cell_type": "code",
   "execution_count": null,
   "metadata": {},
   "outputs": [],
   "source": [
    "\"\"\"Improvements...\"\"\"\n",
    "# gvegas_better = dict(neval=1e5, nitn=7, nitn_init=3, \n",
    "#                      neval_init=1e3, verbose=True)\n",
    "# for n in range(192, 256):\n",
    "#     nlm = (n, ell, m)\n",
    "#     wave4.updateFnlm(nlm, gvegas_params)\n",
    "\n",
    "# print(wave4.t_eval)\n",
    "# print(wave4.f_nlm[(0,0,0)])\n",
    "# print(wave4.gU((0,0,0)))\n",
    "# print(wave4.nlmFu((0,0,0)))\n"
   ]
  },
  {
   "cell_type": "code",
   "execution_count": null,
   "metadata": {},
   "outputs": [],
   "source": [
    "\"\"\"Optionally, save the more precise values to CSV.\"\"\"\n",
    "# wave4.writeFnlm_csv('demo/gX_model4_precise.csv')\n"
   ]
  }
 ],
 "metadata": {
  "kernelspec": {
   "display_name": "Python 3",
   "language": "python",
   "name": "python3"
  },
  "language_info": {
   "codemirror_mode": {
    "name": "ipython",
    "version": 3
   },
   "file_extension": ".py",
   "mimetype": "text/x-python",
   "name": "python",
   "nbconvert_exporter": "python",
   "pygments_lexer": "ipython3",
   "version": "3.7.1"
  }
 },
 "nbformat": 4,
 "nbformat_minor": 4
}
